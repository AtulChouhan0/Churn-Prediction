{
  "nbformat": 4,
  "nbformat_minor": 0,
  "metadata": {
    "colab": {
      "name": "Churn prediction_using_artificial_neural_network.ipynb",
      "provenance": [],
      "collapsed_sections": [],
      "include_colab_link": true
    },
    "kernelspec": {
      "name": "python3",
      "display_name": "Python 3"
    }
  },
  "cells": [
    {
      "cell_type": "markdown",
      "metadata": {
        "id": "view-in-github",
        "colab_type": "text"
      },
      "source": [
        "<a href=\"https://colab.research.google.com/github/AtulChouhan0/Churn-Prediction/blob/main/Churn_prediction_using_artificial_neural_network.ipynb\" target=\"_parent\"><img src=\"https://colab.research.google.com/assets/colab-badge.svg\" alt=\"Open In Colab\"/></a>"
      ]
    },
    {
      "cell_type": "markdown",
      "metadata": {
        "id": "lP6JLo1tGNBg"
      },
      "source": [
        "# Artificial Neural Network"
      ]
    },
    {
      "cell_type": "markdown",
      "metadata": {
        "id": "gWZyYmS_UE_L"
      },
      "source": [
        "### Importing the libraries"
      ]
    },
    {
      "cell_type": "code",
      "metadata": {
        "id": "q7DZT9HjBMV2"
      },
      "source": [
        "import numpy as np\n",
        "import pandas as pd\n",
        "import tensorflow as tf"
      ],
      "execution_count": null,
      "outputs": []
    },
    {
      "cell_type": "code",
      "metadata": {
        "colab": {
          "base_uri": "https://localhost:8080/",
          "height": 34
        },
        "id": "_p02R4SQBl7S",
        "outputId": "986bd777-612e-4377-af1b-19c855b7be69"
      },
      "source": [
        "tf.__version__"
      ],
      "execution_count": null,
      "outputs": [
        {
          "output_type": "execute_result",
          "data": {
            "application/vnd.google.colaboratory.intrinsic+json": {
              "type": "string"
            },
            "text/plain": [
              "'2.4.1'"
            ]
          },
          "metadata": {
            "tags": []
          },
          "execution_count": 2
        }
      ]
    },
    {
      "cell_type": "markdown",
      "metadata": {
        "id": "1E0Q3aoKUCRX"
      },
      "source": [
        "## Part 1 - Data Preprocessing"
      ]
    },
    {
      "cell_type": "markdown",
      "metadata": {
        "id": "cKWAkFVGUU0Z"
      },
      "source": [
        "### Importing the dataset"
      ]
    },
    {
      "cell_type": "code",
      "metadata": {
        "id": "lUf6LBoBEZJE"
      },
      "source": [
        "dataset = pd.read_csv('Churn_Modelling.csv')\n",
        "x = dataset.iloc[:,3:-1].values\n",
        "y = dataset.iloc[:, -1].values"
      ],
      "execution_count": null,
      "outputs": []
    },
    {
      "cell_type": "code",
      "metadata": {
        "colab": {
          "base_uri": "https://localhost:8080/"
        },
        "id": "EMwYWlvCGRfy",
        "outputId": "8086a394-feee-4108-9076-b53a622ee43f"
      },
      "source": [
        "print(x)"
      ],
      "execution_count": null,
      "outputs": [
        {
          "output_type": "stream",
          "text": [
            "[[619 'France' 'Female' ... 1 1 101348.88]\n",
            " [608 'Spain' 'Female' ... 0 1 112542.58]\n",
            " [502 'France' 'Female' ... 1 0 113931.57]\n",
            " ...\n",
            " [709 'France' 'Female' ... 0 1 42085.58]\n",
            " [772 'Germany' 'Male' ... 1 0 92888.52]\n",
            " [792 'France' 'Female' ... 1 0 38190.78]]\n"
          ],
          "name": "stdout"
        }
      ]
    },
    {
      "cell_type": "code",
      "metadata": {
        "colab": {
          "base_uri": "https://localhost:8080/"
        },
        "id": "ediVyG2YGR5N",
        "outputId": "f1caf129-0df2-49fa-b5aa-a8ed3fbd5539"
      },
      "source": [
        "print(y)"
      ],
      "execution_count": null,
      "outputs": [
        {
          "output_type": "stream",
          "text": [
            "[1 0 1 ... 1 1 0]\n"
          ],
          "name": "stdout"
        }
      ]
    },
    {
      "cell_type": "markdown",
      "metadata": {
        "id": "N6bQ0UgSU-NJ"
      },
      "source": [
        "### Encoding categorical data"
      ]
    },
    {
      "cell_type": "markdown",
      "metadata": {
        "id": "le5MJreAbW52"
      },
      "source": [
        "Label Encoding the \"Gender\" column"
      ]
    },
    {
      "cell_type": "code",
      "metadata": {
        "id": "jaACY1fEIN4a"
      },
      "source": [
        "from sklearn.preprocessing import LabelEncoder\n",
        "le = LabelEncoder()\n",
        "x[:,2] = le.fit_transform(x[:,2])"
      ],
      "execution_count": null,
      "outputs": []
    },
    {
      "cell_type": "code",
      "metadata": {
        "colab": {
          "base_uri": "https://localhost:8080/"
        },
        "id": "BJb-sQzgJcBO",
        "outputId": "52902052-0da6-4a2e-fc14-d7478335a64b"
      },
      "source": [
        "print(x)"
      ],
      "execution_count": null,
      "outputs": [
        {
          "output_type": "stream",
          "text": [
            "[[619 'France' 0 ... 1 1 101348.88]\n",
            " [608 'Spain' 0 ... 0 1 112542.58]\n",
            " [502 'France' 0 ... 1 0 113931.57]\n",
            " ...\n",
            " [709 'France' 0 ... 0 1 42085.58]\n",
            " [772 'Germany' 1 ... 1 0 92888.52]\n",
            " [792 'France' 0 ... 1 0 38190.78]]\n"
          ],
          "name": "stdout"
        }
      ]
    },
    {
      "cell_type": "markdown",
      "metadata": {
        "id": "CUxGZezpbMcb"
      },
      "source": [
        "One Hot Encoding the \"Geography\" column"
      ]
    },
    {
      "cell_type": "code",
      "metadata": {
        "id": "tkc8E3rlJhj-"
      },
      "source": [
        "from sklearn.compose import ColumnTransformer\n",
        "from sklearn.preprocessing import OneHotEncoder\n",
        "ct = ColumnTransformer(transformers=[('encoder', OneHotEncoder(), [1])], remainder='passthrough')\n",
        "x = np.array(ct.fit_transform(x))"
      ],
      "execution_count": null,
      "outputs": []
    },
    {
      "cell_type": "code",
      "metadata": {
        "colab": {
          "base_uri": "https://localhost:8080/"
        },
        "id": "Qa6h7_KFZ9nW",
        "outputId": "f8281d6c-fe8c-4848-d817-8c0b63fd0387"
      },
      "source": [
        "print(x)"
      ],
      "execution_count": null,
      "outputs": [
        {
          "output_type": "stream",
          "text": [
            "[[1.0 0.0 0.0 ... 1 1 101348.88]\n",
            " [0.0 0.0 1.0 ... 0 1 112542.58]\n",
            " [1.0 0.0 0.0 ... 1 0 113931.57]\n",
            " ...\n",
            " [1.0 0.0 0.0 ... 0 1 42085.58]\n",
            " [0.0 1.0 0.0 ... 1 0 92888.52]\n",
            " [1.0 0.0 0.0 ... 1 0 38190.78]]\n"
          ],
          "name": "stdout"
        }
      ]
    },
    {
      "cell_type": "markdown",
      "metadata": {
        "id": "vHol938cW8zd"
      },
      "source": [
        "### Splitting the dataset into the Training set and Test set"
      ]
    },
    {
      "cell_type": "code",
      "metadata": {
        "id": "iau8zKh4aY-O"
      },
      "source": [
        "from sklearn.model_selection import train_test_split\n",
        "x_train, x_test, y_train, y_test = train_test_split(x, y, test_size=0.2, random_state=0)\n",
        " "
      ],
      "execution_count": null,
      "outputs": []
    },
    {
      "cell_type": "markdown",
      "metadata": {
        "id": "RE_FcHyfV3TQ"
      },
      "source": [
        "### Feature Scaling"
      ]
    },
    {
      "cell_type": "code",
      "metadata": {
        "id": "sp98aPUjHWXo"
      },
      "source": [
        "from sklearn.preprocessing import StandardScaler\n",
        "sc = StandardScaler()\n",
        "x_train = sc.fit_transform(x_train)\n",
        "x_test = sc.transform(x_test)"
      ],
      "execution_count": null,
      "outputs": []
    },
    {
      "cell_type": "markdown",
      "metadata": {
        "id": "-zfEzkRVXIwF"
      },
      "source": [
        "## Part 2 - Building the ANN"
      ]
    },
    {
      "cell_type": "markdown",
      "metadata": {
        "id": "KvdeScabXtlB"
      },
      "source": [
        "### Initializing the ANN"
      ]
    },
    {
      "cell_type": "code",
      "metadata": {
        "id": "M66Jdl6FE1Mb"
      },
      "source": [
        "ann = tf.keras.models.Sequential()"
      ],
      "execution_count": null,
      "outputs": []
    },
    {
      "cell_type": "markdown",
      "metadata": {
        "id": "rP6urV6SX7kS"
      },
      "source": [
        "### Adding the input layer and the first hidden layer"
      ]
    },
    {
      "cell_type": "code",
      "metadata": {
        "id": "Lksh1Q2fGcw4"
      },
      "source": [
        "ann.add(tf.keras.layers.Dense(units=6, activation='relu'))"
      ],
      "execution_count": null,
      "outputs": []
    },
    {
      "cell_type": "markdown",
      "metadata": {
        "id": "BELWAc_8YJze"
      },
      "source": [
        "### Adding the second hidden layer"
      ]
    },
    {
      "cell_type": "code",
      "metadata": {
        "id": "ZRLrQFh8IH-3"
      },
      "source": [
        "ann.add(tf.keras.layers.Dense(units=6, activation='relu'))"
      ],
      "execution_count": null,
      "outputs": []
    },
    {
      "cell_type": "markdown",
      "metadata": {
        "id": "OyNEe6RXYcU4"
      },
      "source": [
        "### Adding the output layer"
      ]
    },
    {
      "cell_type": "code",
      "metadata": {
        "id": "q5150SdRIKFs"
      },
      "source": [
        "ann.add(tf.keras.layers.Dense(units=1, activation='sigmoid')) # for no-binary use acti= 'softmax'"
      ],
      "execution_count": null,
      "outputs": []
    },
    {
      "cell_type": "markdown",
      "metadata": {
        "id": "JT4u2S1_Y4WG"
      },
      "source": [
        "## Part 3 - Training the ANN"
      ]
    },
    {
      "cell_type": "markdown",
      "metadata": {
        "id": "8GWlJChhY_ZI"
      },
      "source": [
        "### Compiling the ANN"
      ]
    },
    {
      "cell_type": "code",
      "metadata": {
        "id": "1AGUcgwFKTb6"
      },
      "source": [
        "ann.compile(optimizer= 'adam', loss= 'binary_crossentropy', metrics=['accuracy'])  # for non-binary output use categorical_crossentropy"
      ],
      "execution_count": null,
      "outputs": []
    },
    {
      "cell_type": "markdown",
      "metadata": {
        "id": "0QR_G5u7ZLSM"
      },
      "source": [
        "### Training the ANN on the Training set"
      ]
    },
    {
      "cell_type": "code",
      "metadata": {
        "colab": {
          "base_uri": "https://localhost:8080/"
        },
        "id": "JFDwNvQeLMlG",
        "outputId": "513f24b3-58ad-4d96-a6ab-e817dd470270"
      },
      "source": [
        "ann.fit(x_train, y_train, batch_size = 32, epochs = 100)"
      ],
      "execution_count": null,
      "outputs": [
        {
          "output_type": "stream",
          "text": [
            "Epoch 1/100\n",
            "250/250 [==============================] - 1s 961us/step - loss: 0.5596 - accuracy: 0.7886\n",
            "Epoch 2/100\n",
            "250/250 [==============================] - 0s 940us/step - loss: 0.4684 - accuracy: 0.8004\n",
            "Epoch 3/100\n",
            "250/250 [==============================] - 0s 962us/step - loss: 0.4543 - accuracy: 0.7914\n",
            "Epoch 4/100\n",
            "250/250 [==============================] - 0s 1ms/step - loss: 0.4240 - accuracy: 0.8183\n",
            "Epoch 5/100\n",
            "250/250 [==============================] - 0s 937us/step - loss: 0.4100 - accuracy: 0.8257\n",
            "Epoch 6/100\n",
            "250/250 [==============================] - 0s 1ms/step - loss: 0.4252 - accuracy: 0.8155\n",
            "Epoch 7/100\n",
            "250/250 [==============================] - 0s 962us/step - loss: 0.4043 - accuracy: 0.8294\n",
            "Epoch 8/100\n",
            "250/250 [==============================] - 0s 898us/step - loss: 0.3954 - accuracy: 0.8353\n",
            "Epoch 9/100\n",
            "250/250 [==============================] - 0s 1ms/step - loss: 0.4057 - accuracy: 0.8303\n",
            "Epoch 10/100\n",
            "250/250 [==============================] - 0s 1ms/step - loss: 0.3944 - accuracy: 0.8330\n",
            "Epoch 11/100\n",
            "250/250 [==============================] - 0s 954us/step - loss: 0.3816 - accuracy: 0.8391\n",
            "Epoch 12/100\n",
            "250/250 [==============================] - 0s 943us/step - loss: 0.3898 - accuracy: 0.8284\n",
            "Epoch 13/100\n",
            "250/250 [==============================] - 0s 953us/step - loss: 0.3824 - accuracy: 0.8334\n",
            "Epoch 14/100\n",
            "250/250 [==============================] - 0s 988us/step - loss: 0.3747 - accuracy: 0.8369\n",
            "Epoch 15/100\n",
            "250/250 [==============================] - 0s 963us/step - loss: 0.3779 - accuracy: 0.8325\n",
            "Epoch 16/100\n",
            "250/250 [==============================] - 0s 927us/step - loss: 0.3731 - accuracy: 0.8329\n",
            "Epoch 17/100\n",
            "250/250 [==============================] - 0s 971us/step - loss: 0.3826 - accuracy: 0.8318\n",
            "Epoch 18/100\n",
            "250/250 [==============================] - 0s 931us/step - loss: 0.3733 - accuracy: 0.8314\n",
            "Epoch 19/100\n",
            "250/250 [==============================] - 0s 989us/step - loss: 0.3724 - accuracy: 0.8338\n",
            "Epoch 20/100\n",
            "250/250 [==============================] - 0s 1ms/step - loss: 0.3768 - accuracy: 0.8379\n",
            "Epoch 21/100\n",
            "250/250 [==============================] - 0s 994us/step - loss: 0.3718 - accuracy: 0.8426\n",
            "Epoch 22/100\n",
            "250/250 [==============================] - 0s 974us/step - loss: 0.3674 - accuracy: 0.8446\n",
            "Epoch 23/100\n",
            "250/250 [==============================] - 0s 1ms/step - loss: 0.3664 - accuracy: 0.8469\n",
            "Epoch 24/100\n",
            "250/250 [==============================] - 0s 1ms/step - loss: 0.3635 - accuracy: 0.8505\n",
            "Epoch 25/100\n",
            "250/250 [==============================] - 0s 813us/step - loss: 0.3630 - accuracy: 0.8472\n",
            "Epoch 26/100\n",
            "250/250 [==============================] - 0s 945us/step - loss: 0.3558 - accuracy: 0.8525\n",
            "Epoch 27/100\n",
            "250/250 [==============================] - 0s 978us/step - loss: 0.3589 - accuracy: 0.8495\n",
            "Epoch 28/100\n",
            "250/250 [==============================] - 0s 914us/step - loss: 0.3543 - accuracy: 0.8529\n",
            "Epoch 29/100\n",
            "250/250 [==============================] - 0s 909us/step - loss: 0.3522 - accuracy: 0.8491\n",
            "Epoch 30/100\n",
            "250/250 [==============================] - 0s 996us/step - loss: 0.3516 - accuracy: 0.8574\n",
            "Epoch 31/100\n",
            "250/250 [==============================] - 0s 960us/step - loss: 0.3539 - accuracy: 0.8524\n",
            "Epoch 32/100\n",
            "250/250 [==============================] - 0s 995us/step - loss: 0.3435 - accuracy: 0.8630\n",
            "Epoch 33/100\n",
            "250/250 [==============================] - 0s 1ms/step - loss: 0.3571 - accuracy: 0.8537\n",
            "Epoch 34/100\n",
            "250/250 [==============================] - 0s 932us/step - loss: 0.3610 - accuracy: 0.8492\n",
            "Epoch 35/100\n",
            "250/250 [==============================] - 0s 960us/step - loss: 0.3510 - accuracy: 0.8583\n",
            "Epoch 36/100\n",
            "250/250 [==============================] - 0s 1ms/step - loss: 0.3504 - accuracy: 0.8590\n",
            "Epoch 37/100\n",
            "250/250 [==============================] - 0s 992us/step - loss: 0.3438 - accuracy: 0.8581\n",
            "Epoch 38/100\n",
            "250/250 [==============================] - 0s 992us/step - loss: 0.3472 - accuracy: 0.8576\n",
            "Epoch 39/100\n",
            "250/250 [==============================] - 0s 1ms/step - loss: 0.3494 - accuracy: 0.8548\n",
            "Epoch 40/100\n",
            "250/250 [==============================] - 0s 941us/step - loss: 0.3528 - accuracy: 0.8576\n",
            "Epoch 41/100\n",
            "250/250 [==============================] - 0s 992us/step - loss: 0.3318 - accuracy: 0.8672\n",
            "Epoch 42/100\n",
            "250/250 [==============================] - 0s 951us/step - loss: 0.3423 - accuracy: 0.8575\n",
            "Epoch 43/100\n",
            "250/250 [==============================] - 0s 950us/step - loss: 0.3406 - accuracy: 0.8633\n",
            "Epoch 44/100\n",
            "250/250 [==============================] - 0s 1ms/step - loss: 0.3433 - accuracy: 0.8578\n",
            "Epoch 45/100\n",
            "250/250 [==============================] - 0s 999us/step - loss: 0.3439 - accuracy: 0.8601\n",
            "Epoch 46/100\n",
            "250/250 [==============================] - 0s 954us/step - loss: 0.3413 - accuracy: 0.8639\n",
            "Epoch 47/100\n",
            "250/250 [==============================] - 0s 957us/step - loss: 0.3276 - accuracy: 0.8658\n",
            "Epoch 48/100\n",
            "250/250 [==============================] - 0s 934us/step - loss: 0.3355 - accuracy: 0.8668\n",
            "Epoch 49/100\n",
            "250/250 [==============================] - 0s 928us/step - loss: 0.3311 - accuracy: 0.8636\n",
            "Epoch 50/100\n",
            "250/250 [==============================] - 0s 1ms/step - loss: 0.3452 - accuracy: 0.8580\n",
            "Epoch 51/100\n",
            "250/250 [==============================] - 0s 976us/step - loss: 0.3441 - accuracy: 0.8597\n",
            "Epoch 52/100\n",
            "250/250 [==============================] - 0s 1ms/step - loss: 0.3356 - accuracy: 0.8596\n",
            "Epoch 53/100\n",
            "250/250 [==============================] - 0s 935us/step - loss: 0.3346 - accuracy: 0.8640\n",
            "Epoch 54/100\n",
            "250/250 [==============================] - 0s 966us/step - loss: 0.3361 - accuracy: 0.8601\n",
            "Epoch 55/100\n",
            "250/250 [==============================] - 0s 948us/step - loss: 0.3480 - accuracy: 0.8565\n",
            "Epoch 56/100\n",
            "250/250 [==============================] - 0s 1ms/step - loss: 0.3312 - accuracy: 0.8674\n",
            "Epoch 57/100\n",
            "250/250 [==============================] - 0s 924us/step - loss: 0.3345 - accuracy: 0.8689\n",
            "Epoch 58/100\n",
            "250/250 [==============================] - 0s 929us/step - loss: 0.3558 - accuracy: 0.8531\n",
            "Epoch 59/100\n",
            "250/250 [==============================] - 0s 956us/step - loss: 0.3399 - accuracy: 0.8652\n",
            "Epoch 60/100\n",
            "250/250 [==============================] - 0s 1ms/step - loss: 0.3461 - accuracy: 0.8585\n",
            "Epoch 61/100\n",
            "250/250 [==============================] - 0s 1ms/step - loss: 0.3304 - accuracy: 0.8655\n",
            "Epoch 62/100\n",
            "250/250 [==============================] - 0s 949us/step - loss: 0.3432 - accuracy: 0.8592\n",
            "Epoch 63/100\n",
            "250/250 [==============================] - 0s 977us/step - loss: 0.3363 - accuracy: 0.8635\n",
            "Epoch 64/100\n",
            "250/250 [==============================] - 0s 1ms/step - loss: 0.3302 - accuracy: 0.8658\n",
            "Epoch 65/100\n",
            "250/250 [==============================] - 0s 1ms/step - loss: 0.3432 - accuracy: 0.8586\n",
            "Epoch 66/100\n",
            "250/250 [==============================] - 0s 1ms/step - loss: 0.3378 - accuracy: 0.8604\n",
            "Epoch 67/100\n",
            "250/250 [==============================] - 0s 1ms/step - loss: 0.3497 - accuracy: 0.8593\n",
            "Epoch 68/100\n",
            "250/250 [==============================] - 0s 913us/step - loss: 0.3301 - accuracy: 0.8662\n",
            "Epoch 69/100\n",
            "250/250 [==============================] - 0s 980us/step - loss: 0.3137 - accuracy: 0.8758\n",
            "Epoch 70/100\n",
            "250/250 [==============================] - 0s 1ms/step - loss: 0.3367 - accuracy: 0.8657\n",
            "Epoch 71/100\n",
            "250/250 [==============================] - 0s 982us/step - loss: 0.3348 - accuracy: 0.8663\n",
            "Epoch 72/100\n",
            "250/250 [==============================] - 0s 954us/step - loss: 0.3475 - accuracy: 0.8558\n",
            "Epoch 73/100\n",
            "250/250 [==============================] - 0s 1ms/step - loss: 0.3334 - accuracy: 0.8664\n",
            "Epoch 74/100\n",
            "250/250 [==============================] - 0s 1ms/step - loss: 0.3264 - accuracy: 0.8662\n",
            "Epoch 75/100\n",
            "250/250 [==============================] - 0s 1ms/step - loss: 0.3340 - accuracy: 0.8661\n",
            "Epoch 76/100\n",
            "250/250 [==============================] - 0s 959us/step - loss: 0.3314 - accuracy: 0.8661\n",
            "Epoch 77/100\n",
            "250/250 [==============================] - 0s 985us/step - loss: 0.3268 - accuracy: 0.8684\n",
            "Epoch 78/100\n",
            "250/250 [==============================] - 0s 998us/step - loss: 0.3512 - accuracy: 0.8542\n",
            "Epoch 79/100\n",
            "250/250 [==============================] - 0s 950us/step - loss: 0.3369 - accuracy: 0.8634\n",
            "Epoch 80/100\n",
            "250/250 [==============================] - 0s 1ms/step - loss: 0.3427 - accuracy: 0.8586\n",
            "Epoch 81/100\n",
            "250/250 [==============================] - 0s 1ms/step - loss: 0.3375 - accuracy: 0.8603\n",
            "Epoch 82/100\n",
            "250/250 [==============================] - 0s 883us/step - loss: 0.3417 - accuracy: 0.8595\n",
            "Epoch 83/100\n",
            "250/250 [==============================] - 0s 1ms/step - loss: 0.3393 - accuracy: 0.8582\n",
            "Epoch 84/100\n",
            "250/250 [==============================] - 0s 962us/step - loss: 0.3277 - accuracy: 0.8691\n",
            "Epoch 85/100\n",
            "250/250 [==============================] - 0s 1ms/step - loss: 0.3328 - accuracy: 0.8620\n",
            "Epoch 86/100\n",
            "250/250 [==============================] - 0s 1ms/step - loss: 0.3325 - accuracy: 0.8671\n",
            "Epoch 87/100\n",
            "250/250 [==============================] - 0s 971us/step - loss: 0.3303 - accuracy: 0.8629\n",
            "Epoch 88/100\n",
            "250/250 [==============================] - 0s 1ms/step - loss: 0.3339 - accuracy: 0.8650\n",
            "Epoch 89/100\n",
            "250/250 [==============================] - 0s 997us/step - loss: 0.3432 - accuracy: 0.8604\n",
            "Epoch 90/100\n",
            "250/250 [==============================] - 0s 987us/step - loss: 0.3291 - accuracy: 0.8669\n",
            "Epoch 91/100\n",
            "250/250 [==============================] - 0s 972us/step - loss: 0.3444 - accuracy: 0.8577\n",
            "Epoch 92/100\n",
            "250/250 [==============================] - 0s 971us/step - loss: 0.3323 - accuracy: 0.8612\n",
            "Epoch 93/100\n",
            "250/250 [==============================] - 0s 901us/step - loss: 0.3374 - accuracy: 0.8604\n",
            "Epoch 94/100\n",
            "250/250 [==============================] - 0s 950us/step - loss: 0.3368 - accuracy: 0.8641\n",
            "Epoch 95/100\n",
            "250/250 [==============================] - 0s 994us/step - loss: 0.3300 - accuracy: 0.8685\n",
            "Epoch 96/100\n",
            "250/250 [==============================] - 0s 1ms/step - loss: 0.3383 - accuracy: 0.8646\n",
            "Epoch 97/100\n",
            "250/250 [==============================] - 0s 997us/step - loss: 0.3274 - accuracy: 0.8673\n",
            "Epoch 98/100\n",
            "250/250 [==============================] - 0s 1ms/step - loss: 0.3407 - accuracy: 0.8645\n",
            "Epoch 99/100\n",
            "250/250 [==============================] - 0s 1ms/step - loss: 0.3402 - accuracy: 0.8629\n",
            "Epoch 100/100\n",
            "250/250 [==============================] - 0s 987us/step - loss: 0.3448 - accuracy: 0.8617\n"
          ],
          "name": "stdout"
        },
        {
          "output_type": "execute_result",
          "data": {
            "text/plain": [
              "<tensorflow.python.keras.callbacks.History at 0x7f2bd4d3a518>"
            ]
          },
          "metadata": {
            "tags": []
          },
          "execution_count": 17
        }
      ]
    },
    {
      "cell_type": "markdown",
      "metadata": {
        "id": "tJj5k2MxZga3"
      },
      "source": [
        "## Part 4 - Making the predictions and evaluating the model"
      ]
    },
    {
      "cell_type": "markdown",
      "metadata": {
        "id": "84QFoqGYeXHL"
      },
      "source": [
        "### Predicting the result of a single observation"
      ]
    },
    {
      "cell_type": "markdown",
      "metadata": {
        "id": "CGRo3eacgDdC"
      },
      "source": [
        "**Homework**\n",
        "\n",
        "Use our ANN model to predict if the customer with the following informations will leave the bank: \n",
        "\n",
        "Geography: France\n",
        "\n",
        "Credit Score: 600\n",
        "\n",
        "Gender: Male\n",
        "\n",
        "Age: 40 years old\n",
        "\n",
        "Tenure: 3 years\n",
        "\n",
        "Balance: \\$ 60000\n",
        "\n",
        "Number of Products: 2\n",
        "\n",
        "Does this customer have a credit card? Yes\n",
        "\n",
        "Is this customer an Active Member: Yes\n",
        "\n",
        "Estimated Salary: \\$ 50000\n",
        "\n",
        "So, should we say goodbye to that customer?"
      ]
    },
    {
      "cell_type": "markdown",
      "metadata": {
        "id": "ZhU1LTgPg-kH"
      },
      "source": [
        "**Solution**"
      ]
    },
    {
      "cell_type": "code",
      "metadata": {
        "colab": {
          "base_uri": "https://localhost:8080/"
        },
        "id": "xKphrTBKcYOU",
        "outputId": "74db64a0-ef08-4546-c92e-4ce2cf4253bf"
      },
      "source": [
        "ann.predict(sc.transform([[1, 0, 0, 600, 1, 40, 3, 60000, 2, 1, 1, 50000]]))\n",
        "print(ann.predict(sc.transform([[1, 0, 0, 600, 1, 40, 3, 60000, 2, 1, 1, 50000]])))"
      ],
      "execution_count": null,
      "outputs": [
        {
          "output_type": "stream",
          "text": [
            "[[0.01714981]]\n"
          ],
          "name": "stdout"
        }
      ]
    },
    {
      "cell_type": "markdown",
      "metadata": {
        "id": "wGjx94g2n7OV"
      },
      "source": [
        "Therefore, our ANN model predicts that this customer stays in the bank!\n",
        "\n",
        "**Important note 1:** Notice that the values of the features were all input in a double pair of square brackets. That's because the \"predict\" method always expects a 2D array as the format of its inputs. And putting our values into a double pair of square brackets makes the input exactly a 2D array.\n",
        "\n",
        "**Important note 2:** Notice also that the \"France\" country was not input as a string in the last column but as \"1, 0, 0\" in the first three columns. That's because of course the predict method expects the one-hot-encoded values of the state, and as we see in the first row of the matrix of features X, \"France\" was encoded as \"1, 0, 0\". And be careful to include these values in the first three columns, because the dummy variables are always created in the first columns."
      ]
    },
    {
      "cell_type": "markdown",
      "metadata": {
        "id": "u7yx47jPZt11"
      },
      "source": [
        "### Predicting the Test set results"
      ]
    },
    {
      "cell_type": "code",
      "metadata": {
        "colab": {
          "base_uri": "https://localhost:8080/"
        },
        "id": "gPyWSfe9VzeG",
        "outputId": "c89db407-d415-4adb-b05f-b056f8a57e4e"
      },
      "source": [
        "y_pred = ann.predict(x_test)\n",
        "y_pred = (y_pred > 0.5)\n",
        "print(np.concatenate((y_pred.reshape(len(y_pred), 1), y_test.reshape(len(y_test), 1)), 1))"
      ],
      "execution_count": null,
      "outputs": [
        {
          "output_type": "stream",
          "text": [
            "[[0 0]\n",
            " [0 1]\n",
            " [0 0]\n",
            " ...\n",
            " [0 0]\n",
            " [0 0]\n",
            " [0 0]]\n"
          ],
          "name": "stdout"
        }
      ]
    },
    {
      "cell_type": "markdown",
      "metadata": {
        "id": "o0oyfLWoaEGw"
      },
      "source": [
        "### Making the Confusion Matrix"
      ]
    },
    {
      "cell_type": "code",
      "metadata": {
        "colab": {
          "base_uri": "https://localhost:8080/"
        },
        "id": "hS26FGfvZskS",
        "outputId": "aa719ca1-ac9a-43c6-ae59-91ed603dc283"
      },
      "source": [
        "from sklearn.metrics import confusion_matrix, accuracy_score\n",
        "cm = confusion_matrix(y_test, y_pred)\n",
        "print(cm)\n",
        "accuracy_score(y_test, y_pred) "
      ],
      "execution_count": null,
      "outputs": [
        {
          "output_type": "stream",
          "text": [
            "[[1497   98]\n",
            " [ 185  220]]\n"
          ],
          "name": "stdout"
        },
        {
          "output_type": "execute_result",
          "data": {
            "text/plain": [
              "0.8585"
            ]
          },
          "metadata": {
            "tags": []
          },
          "execution_count": 32
        }
      ]
    }
  ]
}